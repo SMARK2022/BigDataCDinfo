{
 "cells": [
  {
   "cell_type": "code",
   "execution_count": 4,
   "metadata": {},
   "outputs": [
    {
     "name": "stdout",
     "output_type": "stream",
     "text": [
      "          base            time  inorout    telephone\n",
      "0  55000000578  20230519000000        1  13564217020\n",
      "1  55000000578  20230519000003        1  13086960739\n",
      "2  55000000578  20230519000004        1  18143096737\n",
      "3  55000000578  20230519000007        1  14333717882\n",
      "4  55000000578  20230519000008        1  18761360716\n",
      "20230519235959\n",
      "20230519000000\n"
     ]
    }
   ],
   "source": [
    "import numpy as np\n",
    "import pandas as pd\n",
    "import dask.dataframe as dd\n",
    "\n",
    "\n",
    "file_path= 'G:\\Bigdatatest\\data\\cdinfo.txt'\n",
    "cdinfo = dd.read_csv(file_path, blocksize=100e6, names=['base', 'time', 'inorout', 'telephone'])\n",
    "\n",
    "# 触发计算并查看数据\n",
    "print(cdinfo.head())\n",
    "\n",
    "# 如果需要将数据保存为单个CSV文件\n",
    "# df.to_csv('combined_bike_orders.csv', single_file=True)\n",
    "# \n",
    "# # 获取 USER_ID 列的唯一值\n",
    "# unique_user_ids = cdinfo[\"base\"].unique().compute()\n",
    "\n",
    "\n",
    "date_max = cdinfo[\"time\"].max().compute()\n",
    "date_min = cdinfo[\"time\"].min().compute()\n",
    "\n",
    "# 打印唯一值\n",
    "# print(unique_user_ids)\n",
    "print(date_max)\n",
    "print(date_min)"
   ]
  },
  {
   "cell_type": "code",
   "execution_count": 11,
   "metadata": {},
   "outputs": [
    {
     "data": {
      "text/html": [
       "<div><strong>Dask DataFrame Structure:</strong></div>\n",
       "<div>\n",
       "<style scoped>\n",
       "    .dataframe tbody tr th:only-of-type {\n",
       "        vertical-align: middle;\n",
       "    }\n",
       "\n",
       "    .dataframe tbody tr th {\n",
       "        vertical-align: top;\n",
       "    }\n",
       "\n",
       "    .dataframe thead th {\n",
       "        text-align: right;\n",
       "    }\n",
       "</style>\n",
       "<table border=\"1\" class=\"dataframe\">\n",
       "  <thead>\n",
       "    <tr style=\"text-align: right;\">\n",
       "      <th></th>\n",
       "      <th>base</th>\n",
       "      <th>time</th>\n",
       "      <th>inorout</th>\n",
       "      <th>telephone</th>\n",
       "    </tr>\n",
       "    <tr>\n",
       "      <th>npartitions=246</th>\n",
       "      <th></th>\n",
       "      <th></th>\n",
       "      <th></th>\n",
       "      <th></th>\n",
       "    </tr>\n",
       "  </thead>\n",
       "  <tbody>\n",
       "    <tr>\n",
       "      <th></th>\n",
       "      <td>int64</td>\n",
       "      <td>int64</td>\n",
       "      <td>int64</td>\n",
       "      <td>int64</td>\n",
       "    </tr>\n",
       "    <tr>\n",
       "      <th></th>\n",
       "      <td>...</td>\n",
       "      <td>...</td>\n",
       "      <td>...</td>\n",
       "      <td>...</td>\n",
       "    </tr>\n",
       "    <tr>\n",
       "      <th>...</th>\n",
       "      <td>...</td>\n",
       "      <td>...</td>\n",
       "      <td>...</td>\n",
       "      <td>...</td>\n",
       "    </tr>\n",
       "    <tr>\n",
       "      <th></th>\n",
       "      <td>...</td>\n",
       "      <td>...</td>\n",
       "      <td>...</td>\n",
       "      <td>...</td>\n",
       "    </tr>\n",
       "    <tr>\n",
       "      <th></th>\n",
       "      <td>...</td>\n",
       "      <td>...</td>\n",
       "      <td>...</td>\n",
       "      <td>...</td>\n",
       "    </tr>\n",
       "  </tbody>\n",
       "</table>\n",
       "</div>\n",
       "<div>Dask Name: read-csv, 1 graph layer</div>"
      ],
      "text/plain": [
       "Dask DataFrame Structure:\n",
       "                  base   time inorout telephone\n",
       "npartitions=246                                \n",
       "                 int64  int64   int64     int64\n",
       "                   ...    ...     ...       ...\n",
       "...                ...    ...     ...       ...\n",
       "                   ...    ...     ...       ...\n",
       "                   ...    ...     ...       ...\n",
       "Dask Name: read-csv, 1 graph layer"
      ]
     },
     "execution_count": 11,
     "metadata": {},
     "output_type": "execute_result"
    }
   ],
   "source": [
    "cdinfo"
   ]
  },
  {
   "cell_type": "code",
   "execution_count": 5,
   "metadata": {},
   "outputs": [
    {
     "name": "stdout",
     "output_type": "stream",
     "text": [
      "[55070849159, 55070852470, 55070853859, 55070864131, 55071099206, 55071102717, 55071106451, 55071108328, 55071108459, 55071109315, 55071505227, 55071844881, 55071848214, 55071849598, 55071849957, 55071858829, 55071861114, 55072171331, 55072173262, 55072173921, 55072175019, 55072383394, 55504604990, 55504606195, 55504614404, 55504619417, 55504880046, 55505315867, 55505326131, 55505329021, 55505422756, 55505425124, 55505425330, 55505427016, 55505428260, 55505435510, 55505435579, 55505591987, 55505595575, 55505596260, 55505597596, 55505598913, 55505599088, 55505599473, 55505604810, 55505605992, 55505609713, 55537659417, 55537661779, 55537662975, 55537664547, 55537669838, 55537672451, 55537675154, 55537680558, 55537682050, 55537809730, 55537825142, 55537831169, 55537832152, 55537846656, 55537850028, 55537852797, 55537854989, 55537857673, 55537861568, 55537864604, 55538238714, 55538244622, 55538248022, 55538248289, 55538250775, 55538251024, 55538308953, 55538313635, 55538316671, 55538683624, 55538687105, 55538687738, 55623365659, 55623373419, 55623378095, 55623380563, 55623390754, 55623391111, 55623589646, 55623591774, 55623592078, 55623603292, 55623606635, 55623607243, 55623615770, 55623620197, 55623623385, 55623624501, 55623624806, 55623627405, 55623634507, 55623637315, 55623640522, 55623641227, 55623641901, 55623642319, 55794984275, 55794994642, 55794998096, 55795002402, 55795004359, 55795004982, 55795006238, 55795007244, 55795009760, 55795142566, 55795155254, 55795155818, 55795457385, 55795457702, 55795458527, 55795459917, 55795460975, 55795461604, 55795462929, 55795464143, 55795468472, 55795473703, 55795479972, 55795484169, 55795485900]\n"
     ]
    }
   ],
   "source": [
    "infected = pd.read_csv('infected01.txt', names=['telephone'])\n",
    "infected_list = list(set(infected[\"telephone\"].tolist()))\n",
    "cdinfo_infected = cdinfo.loc[cdinfo[\"telephone\"].isin(infected_list)]\n",
    "\n",
    "# convert to pandas dataframe(because it is small dataset)\n",
    "cdinfo_infected = cdinfo_infected.compute()\n",
    "infected_base = list(set(cdinfo_infected[\"base\"]))\n",
    "infected_base.sort()\n",
    "\n",
    "print(infected_base)"
   ]
  },
  {
   "cell_type": "code",
   "execution_count": 6,
   "metadata": {},
   "outputs": [
    {
     "data": {
      "text/plain": [
       "128"
      ]
     },
     "execution_count": 6,
     "metadata": {},
     "output_type": "execute_result"
    }
   ],
   "source": [
    "len(infected_base)"
   ]
  },
  {
   "cell_type": "code",
   "execution_count": 8,
   "metadata": {},
   "outputs": [],
   "source": [
    "cdinfo_infected_base = cdinfo.loc[cdinfo[\"base\"].isin(infected_base)].compute()\n"
   ]
  },
  {
   "cell_type": "code",
   "execution_count": 10,
   "metadata": {},
   "outputs": [
    {
     "data": {
      "text/html": [
       "<div>\n",
       "<style scoped>\n",
       "    .dataframe tbody tr th:only-of-type {\n",
       "        vertical-align: middle;\n",
       "    }\n",
       "\n",
       "    .dataframe tbody tr th {\n",
       "        vertical-align: top;\n",
       "    }\n",
       "\n",
       "    .dataframe thead th {\n",
       "        text-align: right;\n",
       "    }\n",
       "</style>\n",
       "<table border=\"1\" class=\"dataframe\">\n",
       "  <thead>\n",
       "    <tr style=\"text-align: right;\">\n",
       "      <th></th>\n",
       "      <th>base</th>\n",
       "      <th>time</th>\n",
       "      <th>inorout</th>\n",
       "      <th>telephone</th>\n",
       "    </tr>\n",
       "  </thead>\n",
       "  <tbody>\n",
       "    <tr>\n",
       "      <th>750665</th>\n",
       "      <td>55070849159</td>\n",
       "      <td>20230519000000</td>\n",
       "      <td>1</td>\n",
       "      <td>15810524539</td>\n",
       "    </tr>\n",
       "    <tr>\n",
       "      <th>750666</th>\n",
       "      <td>55070849159</td>\n",
       "      <td>20230519000000</td>\n",
       "      <td>1</td>\n",
       "      <td>17751438543</td>\n",
       "    </tr>\n",
       "    <tr>\n",
       "      <th>750667</th>\n",
       "      <td>55070849159</td>\n",
       "      <td>20230519000005</td>\n",
       "      <td>1</td>\n",
       "      <td>13582646316</td>\n",
       "    </tr>\n",
       "    <tr>\n",
       "      <th>750668</th>\n",
       "      <td>55070849159</td>\n",
       "      <td>20230519000010</td>\n",
       "      <td>1</td>\n",
       "      <td>13600076119</td>\n",
       "    </tr>\n",
       "    <tr>\n",
       "      <th>750669</th>\n",
       "      <td>55070849159</td>\n",
       "      <td>20230519000010</td>\n",
       "      <td>1</td>\n",
       "      <td>19718893038</td>\n",
       "    </tr>\n",
       "    <tr>\n",
       "      <th>...</th>\n",
       "      <td>...</td>\n",
       "      <td>...</td>\n",
       "      <td>...</td>\n",
       "      <td>...</td>\n",
       "    </tr>\n",
       "    <tr>\n",
       "      <th>1590394</th>\n",
       "      <td>55795485900</td>\n",
       "      <td>20230519235959</td>\n",
       "      <td>2</td>\n",
       "      <td>19046078019</td>\n",
       "    </tr>\n",
       "    <tr>\n",
       "      <th>1590395</th>\n",
       "      <td>55795485900</td>\n",
       "      <td>20230519235959</td>\n",
       "      <td>2</td>\n",
       "      <td>19061396862</td>\n",
       "    </tr>\n",
       "    <tr>\n",
       "      <th>1590396</th>\n",
       "      <td>55795485900</td>\n",
       "      <td>20230519235959</td>\n",
       "      <td>2</td>\n",
       "      <td>19303314073</td>\n",
       "    </tr>\n",
       "    <tr>\n",
       "      <th>1590397</th>\n",
       "      <td>55795485900</td>\n",
       "      <td>20230519235959</td>\n",
       "      <td>2</td>\n",
       "      <td>19619972560</td>\n",
       "    </tr>\n",
       "    <tr>\n",
       "      <th>1590398</th>\n",
       "      <td>55795485900</td>\n",
       "      <td>20230519235959</td>\n",
       "      <td>2</td>\n",
       "      <td>19764620656</td>\n",
       "    </tr>\n",
       "  </tbody>\n",
       "</table>\n",
       "<p>256842 rows × 4 columns</p>\n",
       "</div>"
      ],
      "text/plain": [
       "                base            time  inorout    telephone\n",
       "750665   55070849159  20230519000000        1  15810524539\n",
       "750666   55070849159  20230519000000        1  17751438543\n",
       "750667   55070849159  20230519000005        1  13582646316\n",
       "750668   55070849159  20230519000010        1  13600076119\n",
       "750669   55070849159  20230519000010        1  19718893038\n",
       "...              ...             ...      ...          ...\n",
       "1590394  55795485900  20230519235959        2  19046078019\n",
       "1590395  55795485900  20230519235959        2  19061396862\n",
       "1590396  55795485900  20230519235959        2  19303314073\n",
       "1590397  55795485900  20230519235959        2  19619972560\n",
       "1590398  55795485900  20230519235959        2  19764620656\n",
       "\n",
       "[256842 rows x 4 columns]"
      ]
     },
     "execution_count": 10,
     "metadata": {},
     "output_type": "execute_result"
    }
   ],
   "source": [
    "cdinfo_infected_base"
   ]
  }
 ],
 "metadata": {
  "kernelspec": {
   "display_name": "ML",
   "language": "python",
   "name": "python3"
  },
  "language_info": {
   "codemirror_mode": {
    "name": "ipython",
    "version": 3
   },
   "file_extension": ".py",
   "mimetype": "text/x-python",
   "name": "python",
   "nbconvert_exporter": "python",
   "pygments_lexer": "ipython3",
   "version": "3.10.13"
  }
 },
 "nbformat": 4,
 "nbformat_minor": 2
}
